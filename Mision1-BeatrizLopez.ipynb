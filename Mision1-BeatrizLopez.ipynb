{
 "cells": [
  {
   "cell_type": "markdown",
   "id": "7d479610-fe7d-4798-9023-6f7a1c0d86a4",
   "metadata": {},
   "source": [
    "![](imagenes_notebook/portada.png)\n",
    "![](imagenes_notebook/ruta.png)"
   ]
  },
  {
   "cell_type": "markdown",
   "id": "a237e50d-cf4e-4d59-b2df-cf0b54f4854c",
   "metadata": {
    "jp-MarkdownHeadingCollapsed": true
   },
   "source": [
    "## Selección de Contexto y Problema\n",
    "\n",
    "Se escogió el problema con base en los datos disponibles en la plataforma kaggle:\n",
    "\n",
    "https://www.kaggle.com/datasets/pancachocaliente/calidad-del-aire-en-colombia?select=DATOS_DE_CALIDAD_DEL_AIRE_EN_COLOMBIA_2011-2018_20240311.csv\n",
    "\n",
    "* **Problema específico**\n",
    "\n",
    "Según la Organización Mundial de la Salud (OMS), se deben monitorear **los contaminantes criterio**, los cuales a través de diversos estudios epidemiológicos se determinaron como perjudiciales para la salud y el bienestar de los humanos, siendo los más comunes: \n",
    "- Partículas Suspendidas Totales (PST)\n",
    "- Material Particulado menor a 10 micras (PM10)\n",
    "- Material Particulado menor a 2.5 micras (PM2.5)\n",
    "- Dióxido de Nitrógeno (NO2)\n",
    "- Dióxido de Azufre (SO2)\n",
    "- Ozono troposférico (O3)\n",
    "- Monóxido de Carbono (CO)\n",
    "\n",
    "\n",
    "* **Impacto del Negocio**\n",
    "\n",
    "Si los ciudadanos tenemos información que ayude a predecir la contaminación del aire, podremos tomar medidas para proteger nuestra salud\n",
    "\n",
    "\n",
    "\n",
    "***\n",
    "* **Definición del Problema**\n",
    "  \n",
    "    *Desarrollar un modelo que prediga los niveles en el aire de **los contaminantes criterio** en una región y fechas dadas para tomar medidas preventivas cuando se estime que se alcanzaran valores peligrosos para la salud humana.*\n",
    "\n",
    "***"
   ]
  },
  {
   "cell_type": "markdown",
   "id": "258daee9-5f52-453d-b19a-590948f55c01",
   "metadata": {},
   "source": [
    "## Análisis de Datos Básicos\n",
    "\n",
    "#### 1. Carga y Exploración del Conjunto de Datos\n",
    "\n",
    "* **Cargar el conjunto de datos en un DataFrame utilizando pandas:**"
   ]
  },
  {
   "cell_type": "code",
   "execution_count": 2,
   "id": "25274766-6a7e-471a-b6ec-699c421c1dd8",
   "metadata": {},
   "outputs": [],
   "source": [
    "import pandas as pd\n",
    "import numpy as np\n",
    "import seaborn as sns\n",
    "import matplotlib.pyplot as plt\n",
    "\n",
    "path_data = \"CALIDAD_AIRE.csv\"\n",
    "df = pd.read_csv(path_data, low_memory=False)"
   ]
  },
  {
   "cell_type": "markdown",
   "id": "d056a74a-44a4-4c34-a791-07e20a5e2ff9",
   "metadata": {},
   "source": [
    "* **Observar cantidad de filas y columnas:**"
   ]
  },
  {
   "cell_type": "code",
   "execution_count": 4,
   "id": "d77e8881-647a-4b4f-9093-8aa9cc3253b6",
   "metadata": {},
   "outputs": [
    {
     "name": "stdout",
     "output_type": "stream",
     "text": [
      "Cantidad de filas y columnas del dataset:  (20389245, 16)\n"
     ]
    }
   ],
   "source": [
    "print(\"Cantidad de filas y columnas del dataset: \",df.shape)"
   ]
  },
  {
   "cell_type": "markdown",
   "id": "bcbf194d-80ea-4946-85fa-327da1b231df",
   "metadata": {},
   "source": [
    "* **Mostrar columnas y cantidad de datos por columna:**"
   ]
  },
  {
   "cell_type": "code",
   "execution_count": 6,
   "id": "4f3d1dc3-dddd-4811-a7b9-871a09a5fe48",
   "metadata": {},
   "outputs": [
    {
     "data": {
      "text/plain": [
       "Fecha                             20389245\n",
       "Autoridad Ambiental               20389245\n",
       "Nombre de la estación             20389245\n",
       "Tecnología                        15657064\n",
       "Latitud                           20388880\n",
       "Longitud                          20388880\n",
       "Código del departamento           20388880\n",
       "Departamento                      20388880\n",
       "Código del municipio              20388880\n",
       "Nombre del municipio              20388880\n",
       "Tipo de estación                  20388880\n",
       "Tiempo de exposición              20389245\n",
       "Variable                          20389245\n",
       "Unidades                          20389245\n",
       "Concentración                     19006859\n",
       "Nueva columna georreferenciada    20388880\n",
       "dtype: int64"
      ]
     },
     "execution_count": 6,
     "metadata": {},
     "output_type": "execute_result"
    }
   ],
   "source": [
    "df.count()"
   ]
  },
  {
   "cell_type": "markdown",
   "id": "35885fd7-727c-4ff4-bac5-a381e0803980",
   "metadata": {},
   "source": [
    "#### 2. Tipos de Datos\n",
    "\n",
    "Cualitativos o categóricos:\n",
    "Representan cualidades o categorías: *Nominales:* No presentan un criterio único para ordenarlos. Ej:  los colores, las materias de un curso, etc. *Ordinales:* tienen un criterio único de orden. Ej: los meses del año, el grado de estudios, el lugar obtenido en un concurso, etc.\n",
    "\n",
    "Datos cuantitativos:\n",
    "Datos cuyos valores son números: *Discretos:* Son los que se pueden contar. Ej: el número de respuestas correctas en un examen, los goles anotados en un partido, los lugares disponibles en un auditorio, etc. *Continuos:* Son los que se miden. Ej: el tiempo empleado para resolver un examen, la distancia de un lugar a otro, el peso de una persona, la temperatura ambiental, etc.\n",
    "\n",
    "\n",
    "* **Identificar los tipos de datos de cada columna (numéricos, categóricos, booleanos, etc.):**\n",
    "\n",
    "| Columna      | Tipo de dato      |\n",
    "| ------------- | ------------- |\n",
    "|Fecha |CUANTITATIVO - Continuo |\n",
    "|Autoridad Ambiental |CATEGÓRICO - Nominal|\n",
    "|Nombre de la estación |CATEGÓRICO - Nominal|\n",
    "|Tecnología |CATEGÓRICO - Nominal|\n",
    "|Latitud |CUANTITATIVO - Continuo|\n",
    "|Longitud |CUANTITATIVO - Continuo|\n",
    "|Código del Departamento |CATEGÓRICO - Ordinal|\n",
    "|Departamento |CATEGÓRICO - Nominal|\n",
    "|Código del municipio |CATEGÓRICO- Ordinal|\n",
    "|Nombre del municipio |CATEGÓRICO - Nominal|\n",
    "|Tipo de estación |CATEGÓRICO - Nominal|\n",
    "|Tiempo de exposición| CUANTITATIVO - Continuo|\n",
    "|Variable |CATEGÓRICO - Nominal|\n",
    "|Unidades |CATEGÓRICO - Nominal|\n",
    "|Concentración |CUANTITATIVO - Continuo|\n",
    "|Nueva columna georreferenciada |CUANTITATIVO - Continuo|\n",
    "\n",
    "\n",
    "* **Discutir la importancia de los tipos de datos en el análisis y modelado:**\n",
    "Los tipos de datos son la base para encaminar el proceso del aprendizaje de máquina, se deben tener en cuenta para:\n",
    "\n",
    "     - Seleccionar los algoritmos adecuados:  Algunos algoritmos funcionan mejor con cierto tipo de datos (regresión lineal - datos continuos, KNN - datos correctamente escalados, etc.)\n",
    "     - El preprocesamiento de datos depende del tipo: normalización (datos numéricos), vectorización (datos categóricos), etc\n",
    "     - Conocer los tipos de datos facilita la selección de visualizaciones apropiadas, datos numéricos (histogramas), datos categóricos (barras), etc.\n",
    "     - El manejo de los valores faltantes depende del tipo de datos.Por ejemplo, numéricos con la media o mediana, categóricos con la moda, etc\n",
    "\n",
    "    Lo anterior, entre otras consideraciones, **es esencial para obtener un modelo de machine learning robusto y confiable**\n"
   ]
  },
  {
   "cell_type": "markdown",
   "id": "14945b9b-5bcc-4829-9b8c-fa7f6118429e",
   "metadata": {},
   "source": [
    "#### 2. Cantidad de Datos Faltantes\n",
    "\n",
    "* **Detectar la cantidad de datos faltantes en cada columna:**\n"
   ]
  },
  {
   "cell_type": "code",
   "execution_count": 7,
   "id": "c63dbdd4-8e19-4045-969e-046cec0d7003",
   "metadata": {},
   "outputs": [
    {
     "name": "stdout",
     "output_type": "stream",
     "text": [
      "Fecha                                   0\n",
      "Autoridad Ambiental                     0\n",
      "Nombre de la estación                   0\n",
      "Tecnología                        4732181\n",
      "Latitud                               365\n",
      "Longitud                              365\n",
      "Código del departamento               365\n",
      "Departamento                          365\n",
      "Código del municipio                  365\n",
      "Nombre del municipio                  365\n",
      "Tipo de estación                      365\n",
      "Tiempo de exposición                    0\n",
      "Variable                                0\n",
      "Unidades                                0\n",
      "Concentración                     1382386\n",
      "Nueva columna georreferenciada        365\n",
      "dtype: int64\n"
     ]
    }
   ],
   "source": [
    "print(df.isna().sum()) #valores nulos x columna, tambien puede usarse df.isnull().sum() "
   ]
  },
  {
   "cell_type": "markdown",
   "id": "ba52358b-8f8f-4a65-a187-4b2ba5ca6845",
   "metadata": {},
   "source": [
    "* **Discutir sobre el impacto que tiene los datos faltantes en el problema en cuestión en fases más avanzadas del desarrollo del modelo de machine learning:**\n",
    "\n",
    "La identificación de valores faltantes es un paso crítico en el proceso de limpieza y preparación de datos. Los valores faltantes pueden influir en:\n",
    "\n",
    "    - Resultados estadísticos: Las operaciones estadísticas como la media, mediana y desviación estándar pueden verse afectadas por la presencia de valores faltantes.\n",
    "\n",
    "    - Análisis de datos: Los gráficos y visualizaciones pueden ser engañosos si no se manejan adecuadamente los valores faltantes.\n",
    "\n",
    "    - Modelos de machine learning: Muchos algoritmos de aprendizaje automático no pueden manejar valores faltantes directamente y requieren que estos sean imputados o eliminados.\n"
   ]
  },
  {
   "cell_type": "markdown",
   "id": "95753cdc-84a0-42bf-9363-3719e56787b2",
   "metadata": {},
   "source": [
    "#### 3. Verificación de Reglas de Rango y Dominio\n",
    "\n",
    "* **Identificar y marcar los datos basura, como valores erróneos o irrelevantes:**\n",
    "  \n",
    "  - Datos irrelevantes del set de datos:\n",
    "\n",
    "| Columna      |\n",
    "| ------------- |\n",
    "|Autoridad Ambiental |\n",
    "|Nombre de la estación |\n",
    "|Tecnología |\n",
    "|Código del Departamento |\n",
    "|Código del municipio |\n",
    "|Tipo de estación |\n",
    "|Nueva columna georreferenciada |\n",
    "\n",
    "\n",
    "   - Registros duplicados:\n"
   ]
  },
  {
   "cell_type": "code",
   "execution_count": 10,
   "id": "0ec980ae-fb74-4c7c-9bda-3aa50541bc72",
   "metadata": {},
   "outputs": [
    {
     "name": "stdout",
     "output_type": "stream",
     "text": [
      "8585\n"
     ]
    }
   ],
   "source": [
    "print(df.duplicated().sum())"
   ]
  },
  {
   "cell_type": "markdown",
   "id": "67b20928-33f2-4c19-8a2d-73d335267d60",
   "metadata": {},
   "source": [
    "* **Revisar valores fuera de un rango esperado o texto en columnas numéricas:**\n",
    "\n",
    "    - A veces, una columna se carga como tipo object porque contiene mezclas de texto y números, si se detecta que una columna numérica tiene tipo object, es probable que contenga texto. Revisamos entonces las columnas Latitud, Longitud, Concentación que deberian ser numéricas. En este caso los valores son numéricos:"
   ]
  },
  {
   "cell_type": "code",
   "execution_count": 8,
   "id": "591a8d4e-e2a2-495c-8213-0063a78c2aea",
   "metadata": {},
   "outputs": [
    {
     "name": "stdout",
     "output_type": "stream",
     "text": [
      "<class 'pandas.core.frame.DataFrame'>\n",
      "RangeIndex: 20389245 entries, 0 to 20389244\n",
      "Data columns (total 3 columns):\n",
      " #   Column         Dtype  \n",
      "---  ------         -----  \n",
      " 0   Latitud        float64\n",
      " 1   Longitud       float64\n",
      " 2   Concentración  float64\n",
      "dtypes: float64(3)\n",
      "memory usage: 466.7 MB\n",
      "None\n"
     ]
    }
   ],
   "source": [
    "subset = df[[\"Latitud\", \"Longitud\", \"Concentración\"]]\n",
    "print(subset.info())"
   ]
  },
  {
   "cell_type": "markdown",
   "id": "70db0dfc-f56b-4526-b81a-f10006c7da7d",
   "metadata": {},
   "source": [
    "   - Valores fuera de rango (outliers):\n",
    "    Se pueden detectar usando el rango intercuartílico (IQR), una medida estadística que representa la diferencia entre el tercer cuartil (Q3) y el primer cuartil (Q1) de un conjunto de datos. Divide los datos en cuatro partes iguales y mide la amplitud del rango central (50% de los datos).\n",
    "\n",
    "        Q1: El valor en el percentil 25 (25% de los datos están por debajo de este valor).\n",
    "        Q3: El valor en el percentil 75 (75% de los datos están por debajo de este valor).\n",
    "        IQR = Q3 - Q1: Rango central de los datos.\n",
    "\n",
    "     Los valores fuera del rango esperado se calculan usando una distancia de 1.5 veces el IQR:\n",
    "\n",
    "        Límite inferior: Q1−1.5×IQR\n",
    "     \n",
    "        Límite superior: Q3+1.5×IQR\n",
    "\n",
    "     Los valores que estén fuera de estos límites se consideran **valores atípicos**.\n",
    "    \n",
    "     **Valores extremadamente atípicos**: Si se quiere detectar valores mucho más extremos, se puede usar un factor más alto, como 3 × IQR, para definir un segundo rango más amplio. Esto ayuda a diferenciar entre atípicos moderados y extremos.\n",
    "    \n",
    "        Límite inferior: Q1−3×IQR\n",
    "     \n",
    "        Límite superior: Q3+3×IQR\n",
    "     \n",
    "Lo anterior puede visualizarse con **gráficos de caja (boxplots)**, donde:\n",
    "\n",
    "- El rango intercuartílico está representado por la caja.\n",
    "- Los límites (bigotes) se extienden hasta Q1−1.5×IQR y Q3+1.5×IQR.\n",
    "- Los puntos fuera de los bigotes se consideran atípicos.\n",
    "\n",
    "Revisamos los valores atipicos para los **contaminantes criterio** estudiados:"
   ]
  },
  {
   "cell_type": "code",
   "execution_count": 3,
   "id": "a7558bcd-639a-4e19-9150-81223b756a61",
   "metadata": {},
   "outputs": [
    {
     "name": "stdout",
     "output_type": "stream",
     "text": [
      "Valores fuera del rango intercuartílico:\n",
      "(315026, 18)\n"
     ]
    },
    {
     "data": {
      "image/png": "[encoded data removed]",
      "text/plain": [
       "<Figure size 1000x400 with 2 Axes>"
      ]
     },
     "metadata": {},
     "output_type": "display_data"
    },
    {
     "data": {
      "image/png": "[encoded data removed]",
      "text/plain": [
       "<Figure size 1000x400 with 2 Axes>"
      ]
     },
     "metadata": {},
     "output_type": "display_data"
    }
   ],
   "source": [
    "contaminantes = ['PST', 'PM10', 'PM2.5', 'NO2', 'SO2', 'O3', 'CO']  # Contaminantes criterio a estudiar\n",
    "df_cc = df[df['Variable'].isin(contaminantes)]  # data frame de contaminantes criterio\n",
    "\n",
    "Q1 = df_cc.groupby(['Variable', 'Tiempo de exposición'])['Concentración'].quantile(0.25) # Primer cuartil (percentil 25)\n",
    "Q3 = df_cc.groupby(['Variable', 'Tiempo de exposición'])['Concentración'].quantile(0.75)  # Tercer cuartil (percentil 75)\n",
    "\n",
    "# Calcular el rango intercuartílico\n",
    "IQR = Q3 - Q1\n",
    "\n",
    "# Definir límites para valores atípicos\n",
    "limite_inferior = Q1 - 1.5 * IQR\n",
    "limite_superior = Q3 + 1.5 * IQR\n",
    "\n",
    "#print(f\"Límite inferior: {limite_inferior}, Límite superior: {limite_superior}\")\n",
    "\n",
    "# Restablecer el índice para los límites calculados\n",
    "limite_inferior = limite_inferior.reset_index(name='limite_inferior')\n",
    "limite_superior = limite_superior.reset_index(name='limite_superior')\n",
    "\n",
    "# Unir los límites al DataFrame original\n",
    "df_cc = df_cc.merge(limite_inferior, on=['Variable', 'Tiempo de exposición'])\n",
    "df_cc = df_cc.merge(limite_superior, on=['Variable', 'Tiempo de exposición'])\n",
    "\n",
    "# Identificar valores fuera del rango\n",
    "fuera_de_rango = df_cc[(df_cc['Concentración'] < df_cc['limite_inferior']) | (df_cc['Concentración'] > df_cc['limite_superior'])]\n",
    "\n",
    "# Mostrar los valores fuera del rango\n",
    "print(\"Valores fuera del rango intercuartílico:\")\n",
    "print(fuera_de_rango.shape)\n",
    "\n",
    "\n",
    "### Visualizar valores fuera de rango con boxplot\n",
    "\n",
    "# Crear una figura y ejes para los subplots\n",
    "fig, axes = plt.subplots(ncols=2, figsize=(10, 4))\n",
    "\n",
    "# Añadir títulos y etiquetas a los subplots\n",
    "axes[0].set_title(f\"{contaminantes[0]} (μg/m3)\")\n",
    "axes[1].set_title(f\"{contaminantes[0]} (μg/m3) con detección de outliers\")\n",
    "\n",
    "sns.boxplot(data=df_cc[(df_cc.Variable ==contaminantes[0])],\n",
    "            y='Variable',               # Contaminantes en el eje y\n",
    "            x='Concentración',          # Concentración en el eje x\n",
    "            hue='Tiempo de exposición', # Separar por tiempo de exposición (opcional)\n",
    "            showfliers=False,\n",
    "            ax=axes[0]\n",
    ")\n",
    "\n",
    "sns.boxplot(data=df_cc[(df_cc.Variable ==contaminantes[0])],\n",
    "            y='Variable',               # Contaminantes en el eje y\n",
    "            x='Concentración',          # Concentración en el eje x\n",
    "            hue='Tiempo de exposición', # Separar por tiempo de exposición (opcional)\n",
    "            showfliers=True,\n",
    "            ax=axes[1]\n",
    ")\n",
    "\n",
    "# Ajustar el espaciado entre los subplots\n",
    "plt.tight_layout()\n",
    "plt.show()\n",
    "\n",
    "fig, axes = plt.subplots(ncols=2, figsize=(10, 4))\n",
    "axes[0].set_title(f\"{contaminantes[1]} (μg/m3)\")\n",
    "axes[1].set_title(f\"{contaminantes[1]} (μg/m3) con detección de outliers\")\n",
    "\n",
    "sns.boxplot(data=df_cc[(df_cc.Variable ==contaminantes[1])],\n",
    "            y='Variable',               # Contaminantes en el eje y\n",
    "            x='Concentración',          # Concentración en el eje x\n",
    "            hue='Tiempo de exposición', # Separar por tiempo de exposición (opcional)\n",
    "            showfliers=False,\n",
    "            ax=axes[0]\n",
    ")\n",
    "\n",
    "sns.boxplot(data=df_cc[(df_cc.Variable ==contaminantes[1])],\n",
    "            y='Variable',               # Contaminantes en el eje y\n",
    "            x='Concentración',          # Concentración en el eje x\n",
    "            hue='Tiempo de exposición', # Separar por tiempo de exposición (opcional)\n",
    "            showfliers=True,\n",
    "            ax=axes[1]\n",
    ")\n",
    "plt.show()"
   ]
  },
  {
   "cell_type": "code",
   "execution_count": null,
   "id": "def77854-095f-4081-97ec-3b0f953f15bd",
   "metadata": {},
   "outputs": [],
   "source": []
  }
 ],
 "metadata": {
  "kernelspec": {
   "display_name": "Python 3 (ipykernel)",
   "language": "python",
   "name": "python3"
  },
  "language_info": {
   "codemirror_mode": {
    "name": "ipython",
    "version": 3
   },
   "file_extension": ".py",
   "mimetype": "text/x-python",
   "name": "python",
   "nbconvert_exporter": "python",
   "pygments_lexer": "ipython3",
   "version": "3.11.4"
  }
 },
 "nbformat": 4,
 "nbformat_minor": 5
}
